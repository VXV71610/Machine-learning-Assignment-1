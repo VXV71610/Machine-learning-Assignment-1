{
 "cells": [
  {
   "cell_type": "code",
   "execution_count": 1,
   "id": "35fcbcdc",
   "metadata": {},
   "outputs": [
    {
     "name": "stdout",
     "output_type": "stream",
     "text": [
      "sorted list =  [19, 19, 20, 22, 24, 24, 24, 25, 25, 26]\n"
     ]
    }
   ],
   "source": [
    "#Question 1\n",
    "# The following is a list of 10 students ages:\n",
    "# ages = [19, 22, 19, 24, 20, 25, 26, 24, 25, 24]\n",
    "# Sort the list and find the min and max age\n",
    "# Add the min age and the max age again to the list\n",
    "# Find the median age (one middle item or two middle items divided by two)\n",
    "# Find the average age (sum of all items divided by their number)\n",
    "# Find the range of the ages (max minus min)\n",
    "\n",
    "ages =  [19, 22, 19, 24, 20, 25, 26, 24, 25, 24] ##creating a list\n",
    "\n",
    "ages.sort() #sorting\n",
    "print(\"sorted list = \", ages)"
   ]
  },
  {
   "cell_type": "code",
   "execution_count": 2,
   "id": "941cfdf8",
   "metadata": {},
   "outputs": [
    {
     "name": "stdout",
     "output_type": "stream",
     "text": [
      "max age:26, min age:19\n",
      "added list: [19, 19, 20, 22, 24, 24, 24, 25, 25, 26, 19, 26]\n"
     ]
    }
   ],
   "source": [
    "print(f\"max age:{max(ages)}, min age:{min(ages)}\") #min and max age\n",
    "ages.extend([min(ages),max(ages)]) #adding min and max ages\n",
    "print(f\"added list: {ages}\") # list after addition\n"
   ]
  },
  {
   "cell_type": "code",
   "execution_count": 59,
   "id": "81119bac",
   "metadata": {},
   "outputs": [
    {
     "data": {
      "text/plain": [
       "12"
      ]
     },
     "execution_count": 59,
     "metadata": {},
     "output_type": "execute_result"
    }
   ],
   "source": [
    "L = len(ages)\n",
    "L"
   ]
  },
  {
   "cell_type": "code",
   "execution_count": 58,
   "id": "861311d2",
   "metadata": {},
   "outputs": [
    {
     "data": {
      "text/plain": [
       "24.0"
      ]
     },
     "execution_count": 58,
     "metadata": {},
     "output_type": "execute_result"
    }
   ],
   "source": [
    "\n",
    "A = int(L/2 -1) #A be the predecessor to the mid value in a list because list Index starts at 0\n",
    "B = int(L/2) #B be the mid value in a list at Index 6\n",
    "Median = (ages[A]+ages[B])/2\n",
    "Median"
   ]
  },
  {
   "cell_type": "code",
   "execution_count": 4,
   "id": "7d53bf5e",
   "metadata": {},
   "outputs": [
    {
     "name": "stdout",
     "output_type": "stream",
     "text": [
      "average age is:  22.75\n"
     ]
    }
   ],
   "source": [
    "average = sum(ages)/len(ages)\n",
    "print(\"average age is: \",average) "
   ]
  },
  {
   "cell_type": "code",
   "execution_count": 5,
   "id": "e086f582",
   "metadata": {},
   "outputs": [
    {
     "name": "stdout",
     "output_type": "stream",
     "text": [
      "Range of the ages:  7\n"
     ]
    }
   ],
   "source": [
    "range = max(ages) - min(ages) # range \n",
    "print(\"Range of the ages: \", range)"
   ]
  },
  {
   "cell_type": "code",
   "execution_count": null,
   "id": "e8e3c5ef",
   "metadata": {},
   "outputs": [],
   "source": []
  },
  {
   "cell_type": "code",
   "execution_count": 6,
   "id": "d1ff5fc9",
   "metadata": {},
   "outputs": [],
   "source": [
    "#Question 2\n",
    "# Create an empty dictionary called dog\n",
    "# Add name, color, breed, legs, age to the dog dictionary\n",
    "# Create a student dictionary and add first_name, last_name, gender, age, marital status,skills, country, city and address as keys for the dictionary\n",
    "# Get the length of the student dictionary\n",
    "# Get the value of skills and check the data type, it should be a list\n",
    "# Modify the skills values by adding one or two skills\n",
    "# Get the dictionary keys as a list\n",
    "# Get the dictionary values as a list\n",
    "\n",
    "dog = {} #creating empty dictionary\n"
   ]
  },
  {
   "cell_type": "code",
   "execution_count": 7,
   "id": "ce17b9da",
   "metadata": {},
   "outputs": [
    {
     "data": {
      "text/plain": [
       "{'name': 'Cashew', 'color': 'brown', 'breed': 'shih tzu', 'legs': 4, 'age': 3}"
      ]
     },
     "execution_count": 7,
     "metadata": {},
     "output_type": "execute_result"
    }
   ],
   "source": [
    "#adding name,colour,breed,legs,age to dictionary\n",
    "dog={\"name\":\"Cashew\", \"color\":\"brown\", \"breed\":\"shih tzu\", \"legs\":4, \"age\":3}\n",
    "dog"
   ]
  },
  {
   "cell_type": "code",
   "execution_count": 8,
   "id": "48ba5b08",
   "metadata": {},
   "outputs": [
    {
     "data": {
      "text/plain": [
       "{'first_name': 'Varshitha',\n",
       " 'last_name': 'Vadapally',\n",
       " 'gender': 'female',\n",
       " 'age': 22,\n",
       " 'martial status': 'single',\n",
       " 'skills': ['Quick learner'],\n",
       " 'country': 'India',\n",
       " 'city': 'Nalgonda',\n",
       " 'address': 'VT Colony'}"
      ]
     },
     "execution_count": 8,
     "metadata": {},
     "output_type": "execute_result"
    }
   ],
   "source": [
    "#student Dictionary\n",
    "student= {} \n",
    "student= {\"first_name\":\"Varshitha\",\"last_name\":\"Vadapally\",\"gender\":\"female\",\"age\":22,\"martial status\":\"single\",\n",
    "           \"skills\":['Quick learner'],\"country\":\"India\",\"city\":\"Nalgonda\",\"address\":\"VT Colony\"} #adding key values\n",
    "student"
   ]
  },
  {
   "cell_type": "code",
   "execution_count": 9,
   "id": "c2bd01d2",
   "metadata": {},
   "outputs": [
    {
     "name": "stdout",
     "output_type": "stream",
     "text": [
      "['Quick learner']\n",
      "<class 'list'>\n"
     ]
    }
   ],
   "source": [
    "print(student['skills'])\n",
    "print(type(student['skills']))         #values in skills and type of date   \n"
   ]
  },
  {
   "cell_type": "code",
   "execution_count": 10,
   "id": "5f271f92",
   "metadata": {},
   "outputs": [
    {
     "name": "stdout",
     "output_type": "stream",
     "text": [
      "['Quick learner', 'Positive Thinking', 'hardworking', 'Time management']\n"
     ]
    }
   ],
   "source": [
    "#modifying skills\n",
    "student['skills'].extend(['Positive Thinking','hardworking', 'Time management']) \n",
    "print(student['skills'])\n"
   ]
  },
  {
   "cell_type": "code",
   "execution_count": 11,
   "id": "a950cbab",
   "metadata": {},
   "outputs": [
    {
     "name": "stdout",
     "output_type": "stream",
     "text": [
      "keys of student dictionary:dict_keys(['first_name', 'last_name', 'gender', 'age', 'martial status', 'skills', 'country', 'city', 'address'])\n",
      "values of student dictionary: dict_values(['Varshitha', 'Vadapally', 'female', 22, 'single', ['Quick learner', 'Positive Thinking', 'hardworking', 'Time management'], 'India', 'Nalgonda', 'VT Colony'])\n"
     ]
    }
   ],
   "source": [
    "print(f\"keys of student dictionary:{student.keys()}\")   #dictionary keys as list\n",
    "\n",
    "print(f\"values of student dictionary: {student.values()}\") #dictionary keys as values\n"
   ]
  },
  {
   "cell_type": "code",
   "execution_count": 12,
   "id": "73533aa5",
   "metadata": {},
   "outputs": [
    {
     "name": "stdout",
     "output_type": "stream",
     "text": [
      "keys of student dictionary:dict_keys(['first_name', 'last_name', 'gender', 'age', 'martial status', 'skills', 'country', 'city', 'address'])\n"
     ]
    }
   ],
   "source": [
    "print(f\"keys of student dictionary:{student.keys()}\")  \n",
    "#dictionary keys as list\n",
    "\n"
   ]
  },
  {
   "cell_type": "code",
   "execution_count": 13,
   "id": "f65eadd7",
   "metadata": {},
   "outputs": [
    {
     "name": "stdout",
     "output_type": "stream",
     "text": [
      "values of student dictionary: dict_values(['Varshitha', 'Vadapally', 'female', 22, 'single', ['Quick learner', 'Positive Thinking', 'hardworking', 'Time management'], 'India', 'Nalgonda', 'VT Colony'])\n"
     ]
    }
   ],
   "source": [
    "print(f\"values of student dictionary: {student.values()}\") \n",
    "#dictionary keys as values\n"
   ]
  },
  {
   "cell_type": "code",
   "execution_count": 14,
   "id": "f8bc25d1",
   "metadata": {},
   "outputs": [
    {
     "name": "stdout",
     "output_type": "stream",
     "text": [
      "['first_name', 'last_name', 'gender', 'age', 'martial status', 'skills', 'country', 'city', 'address']\n"
     ]
    }
   ],
   "source": [
    "print(list(student.keys()))"
   ]
  },
  {
   "cell_type": "code",
   "execution_count": 15,
   "id": "26586f90",
   "metadata": {},
   "outputs": [
    {
     "name": "stdout",
     "output_type": "stream",
     "text": [
      "['Varshitha', 'Vadapally', 'female', 22, 'single', ['Quick learner', 'Positive Thinking', 'hardworking', 'Time management'], 'India', 'Nalgonda', 'VT Colony']\n"
     ]
    }
   ],
   "source": [
    "print(list(student.values()))"
   ]
  },
  {
   "cell_type": "code",
   "execution_count": null,
   "id": "1fbe2a5c",
   "metadata": {},
   "outputs": [],
   "source": []
  },
  {
   "cell_type": "code",
   "execution_count": 16,
   "id": "084ec3a5",
   "metadata": {},
   "outputs": [
    {
     "data": {
      "text/plain": [
       "('Akshitha', 'preethi', 'bunny', 'Spandana')"
      ]
     },
     "execution_count": 16,
     "metadata": {},
     "output_type": "execute_result"
    }
   ],
   "source": [
    "#Question:3\n",
    "# Create a tuple containing names of your sisters and your brothers (imaginary siblings are fine)\n",
    "# Join brothers and sisters tuples and assign it to siblings\n",
    "# How many siblings do you have?\n",
    "\n",
    "brothers = (\"Vedamsh\", \"Sai\", \"Harsha\", \"Harikesh\")    #brothers tuple\n",
    "sisters = (\"Akshitha\", \"preethi\", \"bunny\", \"Spandana\")  #sisters tuple\n",
    "\n",
    "sisters"
   ]
  },
  {
   "cell_type": "code",
   "execution_count": 17,
   "id": "d9f976db",
   "metadata": {},
   "outputs": [
    {
     "data": {
      "text/plain": [
       "('Vedamsh', 'Sai', 'Harsha', 'Harikesh')"
      ]
     },
     "execution_count": 17,
     "metadata": {},
     "output_type": "execute_result"
    }
   ],
   "source": [
    "brothers"
   ]
  },
  {
   "cell_type": "code",
   "execution_count": 18,
   "id": "82b5978a",
   "metadata": {},
   "outputs": [
    {
     "name": "stdout",
     "output_type": "stream",
     "text": [
      "('Vedamsh', 'Sai', 'Harsha', 'Harikesh', 'Akshitha', 'preethi', 'bunny', 'Spandana')\n"
     ]
    }
   ],
   "source": [
    "siblings = brothers + sisters            #siblings tuple by adding\n",
    "print(siblings)"
   ]
  },
  {
   "cell_type": "code",
   "execution_count": 19,
   "id": "25dc311c",
   "metadata": {},
   "outputs": [
    {
     "name": "stdout",
     "output_type": "stream",
     "text": [
      "no of siblings: 8\n"
     ]
    }
   ],
   "source": [
    "print(f\"no of siblings: {len(siblings)}\")             #number of siblings\n"
   ]
  },
  {
   "cell_type": "code",
   "execution_count": 20,
   "id": "c698c55c",
   "metadata": {},
   "outputs": [
    {
     "name": "stdout",
     "output_type": "stream",
     "text": [
      "type:  <class 'tuple'>\n"
     ]
    }
   ],
   "source": [
    "family_member = ()\n",
    "family_member += siblings + (\"Sridhar\", \"Saritha\")\n",
    "print(\"type: \",type(family_member))\n"
   ]
  },
  {
   "cell_type": "code",
   "execution_count": 21,
   "id": "bda071a4",
   "metadata": {},
   "outputs": [
    {
     "name": "stdout",
     "output_type": "stream",
     "text": [
      "family member: \n",
      "('Vedamsh', 'Sai', 'Harsha', 'Harikesh', 'Akshitha', 'preethi', 'bunny', 'Spandana', 'Sridhar', 'Saritha')\n"
     ]
    }
   ],
   "source": [
    "print(\"family member: \")\n",
    "print(family_member)"
   ]
  },
  {
   "cell_type": "code",
   "execution_count": null,
   "id": "50c3504a",
   "metadata": {},
   "outputs": [],
   "source": []
  },
  {
   "cell_type": "code",
   "execution_count": 22,
   "id": "8c3ab925",
   "metadata": {},
   "outputs": [],
   "source": [
    "#Question 4\n",
    "#it_companies = {'Facebook', 'Google', 'Microsoft', 'Apple', 'IBM', 'Oracle', 'Amazon'}\n",
    "#A = {19, 22, 24, 20, 25, 26}\n",
    "#B = {19, 22, 20, 25, 26, 24, 28, 27}\n",
    "#age = [22, 19, 24, 25, 26, 24, 25, 24]\n",
    "# Find the length of the set it_companies\n",
    "# Add 'Twitter' to it_companies\n",
    "# Insert multiple IT companies at once to the set it_companies\n",
    "# Remove one of the companies from the set it_companies\n",
    "# What is the difference between remove and discard\n",
    "# Join A and B\n",
    "# Find A intersection B\n",
    "# Is A subset of B\n",
    "# Are A and B disjoint sets\n",
    "# Join A with B and B with A\n",
    "# What is the symmetric difference between A and B\n",
    "# Delete the sets completely\n",
    "# Convert the ages to a set and compare the length of the list and the set\n",
    "\n",
    "it_companies = {'Facebook', 'Google', 'Microsoft', 'Apple', 'IBM', 'Oracle',\n",
    "                'Amazon'}\n",
    "A = {19, 22, 24, 20, 25, 26}\n",
    "B = {19, 22, 20, 25, 26, 24, 28, 27}\n",
    "age = [22, 19, 24, 25, 26, 24, 25, 24]\n"
   ]
  },
  {
   "cell_type": "code",
   "execution_count": 23,
   "id": "e48ee84b",
   "metadata": {},
   "outputs": [
    {
     "data": {
      "text/plain": [
       "7"
      ]
     },
     "execution_count": 23,
     "metadata": {},
     "output_type": "execute_result"
    }
   ],
   "source": [
    "len(it_companies)              # length of set it_companies"
   ]
  },
  {
   "cell_type": "code",
   "execution_count": 24,
   "id": "c5d51ed9",
   "metadata": {},
   "outputs": [
    {
     "data": {
      "text/plain": [
       "{'Amazon',\n",
       " 'Apple',\n",
       " 'Facebook',\n",
       " 'Google',\n",
       " 'IBM',\n",
       " 'Microsoft',\n",
       " 'Oracle',\n",
       " 'twitter'}"
      ]
     },
     "execution_count": 24,
     "metadata": {},
     "output_type": "execute_result"
    }
   ],
   "source": [
    "it_companies.add(\"twitter\")  #adding twitter\n",
    "it_companies"
   ]
  },
  {
   "cell_type": "code",
   "execution_count": 25,
   "id": "54308a83",
   "metadata": {},
   "outputs": [
    {
     "data": {
      "text/plain": [
       "{'Amazon',\n",
       " 'Apple',\n",
       " 'Facebook',\n",
       " 'Google',\n",
       " 'IBM',\n",
       " 'Microsoft',\n",
       " 'Oracle',\n",
       " 'accenture',\n",
       " 'cognizant',\n",
       " 'pwc',\n",
       " 'twitter'}"
      ]
     },
     "execution_count": 25,
     "metadata": {},
     "output_type": "execute_result"
    }
   ],
   "source": [
    "it_companies.update(['pwc', 'accenture', 'cognizant'])  # multiple it companies\n",
    "it_companies"
   ]
  },
  {
   "cell_type": "code",
   "execution_count": 26,
   "id": "9f157cdf",
   "metadata": {},
   "outputs": [
    {
     "data": {
      "text/plain": [
       "{'Amazon',\n",
       " 'Apple',\n",
       " 'Facebook',\n",
       " 'Google',\n",
       " 'IBM',\n",
       " 'Microsoft',\n",
       " 'Oracle',\n",
       " 'accenture',\n",
       " 'cognizant',\n",
       " 'pwc'}"
      ]
     },
     "execution_count": 26,
     "metadata": {},
     "output_type": "execute_result"
    }
   ],
   "source": [
    "it_companies.remove('twitter')                           #remove one company(which raises error)\n",
    "it_companies"
   ]
  },
  {
   "cell_type": "code",
   "execution_count": 27,
   "id": "2ae247b8",
   "metadata": {},
   "outputs": [
    {
     "ename": "KeyError",
     "evalue": "'walmart'",
     "output_type": "error",
     "traceback": [
      "\u001b[1;31m---------------------------------------------------------------------------\u001b[0m",
      "\u001b[1;31mKeyError\u001b[0m                                  Traceback (most recent call last)",
      "Cell \u001b[1;32mIn[27], line 1\u001b[0m\n\u001b[1;32m----> 1\u001b[0m \u001b[43mit_companies\u001b[49m\u001b[38;5;241;43m.\u001b[39;49m\u001b[43mremove\u001b[49m\u001b[43m(\u001b[49m\u001b[38;5;124;43m'\u001b[39;49m\u001b[38;5;124;43mwalmart\u001b[39;49m\u001b[38;5;124;43m'\u001b[39;49m\u001b[43m)\u001b[49m \n",
      "\u001b[1;31mKeyError\u001b[0m: 'walmart'"
     ]
    }
   ],
   "source": [
    "it_companies.remove('walmart') "
   ]
  },
  {
   "cell_type": "code",
   "execution_count": 28,
   "id": "ac8d9089",
   "metadata": {},
   "outputs": [],
   "source": [
    "it_companies.discard('walmart') "
   ]
  },
  {
   "cell_type": "code",
   "execution_count": 29,
   "id": "7dacb4fd",
   "metadata": {},
   "outputs": [
    {
     "data": {
      "text/plain": [
       "{19, 20, 22, 24, 25, 26, 27, 28}"
      ]
     },
     "execution_count": 29,
     "metadata": {},
     "output_type": "execute_result"
    }
   ],
   "source": [
    "C = A.union(B)     #joining 2 sets A and B. It also removes duplicates\n",
    "C"
   ]
  },
  {
   "cell_type": "code",
   "execution_count": 30,
   "id": "49d905a2",
   "metadata": {},
   "outputs": [
    {
     "data": {
      "text/plain": [
       "{19, 20, 22, 24, 25, 26}"
      ]
     },
     "execution_count": 30,
     "metadata": {},
     "output_type": "execute_result"
    }
   ],
   "source": [
    "D=A.intersection(B)     #intersecting two sets\n",
    "D"
   ]
  },
  {
   "cell_type": "code",
   "execution_count": 31,
   "id": "8188880a",
   "metadata": {},
   "outputs": [
    {
     "data": {
      "text/plain": [
       "True"
      ]
     },
     "execution_count": 31,
     "metadata": {},
     "output_type": "execute_result"
    }
   ],
   "source": [
    "A.issubset(B)          #Is A is subset of B"
   ]
  },
  {
   "cell_type": "code",
   "execution_count": 32,
   "id": "c8f62ff3",
   "metadata": {},
   "outputs": [
    {
     "data": {
      "text/plain": [
       "False"
      ]
     },
     "execution_count": 32,
     "metadata": {},
     "output_type": "execute_result"
    }
   ],
   "source": [
    "A.isdisjoint(B)          #Are A and B disjoint sets"
   ]
  },
  {
   "cell_type": "code",
   "execution_count": 33,
   "id": "3081f4dd",
   "metadata": {},
   "outputs": [
    {
     "data": {
      "text/plain": [
       "{19, 20, 22, 24, 25, 26, 27, 28}"
      ]
     },
     "execution_count": 33,
     "metadata": {},
     "output_type": "execute_result"
    }
   ],
   "source": [
    "A.update(B)             #inserting items from set B into set A\n",
    "A"
   ]
  },
  {
   "cell_type": "code",
   "execution_count": 34,
   "id": "541dd5ca",
   "metadata": {},
   "outputs": [
    {
     "data": {
      "text/plain": [
       "{19, 20, 22, 24, 25, 26, 27, 28}"
      ]
     },
     "execution_count": 34,
     "metadata": {},
     "output_type": "execute_result"
    }
   ],
   "source": [
    "B.update(A)             #inserting items from set A into set B\n",
    "B"
   ]
  },
  {
   "cell_type": "code",
   "execution_count": 35,
   "id": "790663a5",
   "metadata": {},
   "outputs": [
    {
     "data": {
      "text/plain": [
       "set()"
      ]
     },
     "execution_count": 35,
     "metadata": {},
     "output_type": "execute_result"
    }
   ],
   "source": [
    "A.symmetric_difference(B)"
   ]
  },
  {
   "cell_type": "code",
   "execution_count": 36,
   "id": "ee3a4b9b",
   "metadata": {},
   "outputs": [],
   "source": [
    "del A                      #deleting the sets completely    \n",
    "del B\n",
    "del it_companies"
   ]
  },
  {
   "cell_type": "code",
   "execution_count": 37,
   "id": "7128181e",
   "metadata": {},
   "outputs": [
    {
     "ename": "NameError",
     "evalue": "name 'A' is not defined",
     "output_type": "error",
     "traceback": [
      "\u001b[1;31m---------------------------------------------------------------------------\u001b[0m",
      "\u001b[1;31mNameError\u001b[0m                                 Traceback (most recent call last)",
      "Cell \u001b[1;32mIn[37], line 1\u001b[0m\n\u001b[1;32m----> 1\u001b[0m \u001b[43mA\u001b[49m\n\u001b[0;32m      2\u001b[0m B\n",
      "\u001b[1;31mNameError\u001b[0m: name 'A' is not defined"
     ]
    }
   ],
   "source": [
    "A\n",
    "B"
   ]
  },
  {
   "cell_type": "code",
   "execution_count": 38,
   "id": "8c553dfc",
   "metadata": {},
   "outputs": [
    {
     "name": "stdout",
     "output_type": "stream",
     "text": [
      "[22, 19, 24, 25, 26, 24, 25, 24]\n"
     ]
    },
    {
     "data": {
      "text/plain": [
       "8"
      ]
     },
     "execution_count": 38,
     "metadata": {},
     "output_type": "execute_result"
    }
   ],
   "source": [
    "print(age)\n",
    "len(age)"
   ]
  },
  {
   "cell_type": "code",
   "execution_count": 39,
   "id": "6f663483",
   "metadata": {},
   "outputs": [
    {
     "data": {
      "text/plain": [
       "{19, 22, 24, 25, 26}"
      ]
     },
     "execution_count": 39,
     "metadata": {},
     "output_type": "execute_result"
    }
   ],
   "source": [
    "setage = set(age)\n",
    "setage"
   ]
  },
  {
   "cell_type": "code",
   "execution_count": 40,
   "id": "5dec46d3",
   "metadata": {},
   "outputs": [
    {
     "data": {
      "text/plain": [
       "5"
      ]
     },
     "execution_count": 40,
     "metadata": {},
     "output_type": "execute_result"
    }
   ],
   "source": [
    "len(setage)"
   ]
  },
  {
   "cell_type": "code",
   "execution_count": 41,
   "id": "cab74c6b",
   "metadata": {},
   "outputs": [
    {
     "data": {
      "text/plain": [
       "False"
      ]
     },
     "execution_count": 41,
     "metadata": {},
     "output_type": "execute_result"
    }
   ],
   "source": [
    "len(age) == len(setage)"
   ]
  },
  {
   "cell_type": "code",
   "execution_count": null,
   "id": "c1387a33",
   "metadata": {},
   "outputs": [],
   "source": []
  },
  {
   "cell_type": "code",
   "execution_count": 42,
   "id": "8fce908c",
   "metadata": {},
   "outputs": [
    {
     "data": {
      "text/plain": [
       "2826.0"
      ]
     },
     "execution_count": 42,
     "metadata": {},
     "output_type": "execute_result"
    }
   ],
   "source": [
    "#Question 5\n",
    "# The radius of a circle is 30 meters.\n",
    "# Calculate the area of a circle and assign the value to a variable name of _area_of_circle_\n",
    "# Calculate the circumference of a circle and assign the value to a variable name of _circum_of_circle_\n",
    "# Take radius as user input and calculate the area\n",
    "\n",
    "radius=30                                       #taking radius as per input\n",
    "area_of_circle=3.14*(radius**2)     # clculating area of circle\n",
    "area_of_circle"
   ]
  },
  {
   "cell_type": "code",
   "execution_count": 43,
   "id": "afae8d9a",
   "metadata": {},
   "outputs": [
    {
     "data": {
      "text/plain": [
       "188.4"
      ]
     },
     "execution_count": 43,
     "metadata": {},
     "output_type": "execute_result"
    }
   ],
   "source": [
    "PI=3.14\n",
    "circum_of_circle =2 * PI * radius    #calculating circumference of circle\n",
    "circum_of_circle"
   ]
  },
  {
   "cell_type": "code",
   "execution_count": 44,
   "id": "c5410f0f",
   "metadata": {},
   "outputs": [
    {
     "name": "stdout",
     "output_type": "stream",
     "text": [
      "Enter a radius 5\n"
     ]
    },
    {
     "data": {
      "text/plain": [
       "78.5"
      ]
     },
     "execution_count": 44,
     "metadata": {},
     "output_type": "execute_result"
    }
   ],
   "source": [
    "rad= float(input(\"Enter a radius \"))      #reading input from user\n",
    "area = PI * rad * rad                    #formulae to calculate area of circle\n",
    "area\n"
   ]
  },
  {
   "cell_type": "code",
   "execution_count": null,
   "id": "a90f4bdd",
   "metadata": {},
   "outputs": [],
   "source": []
  },
  {
   "cell_type": "code",
   "execution_count": 45,
   "id": "0858b12d",
   "metadata": {},
   "outputs": [
    {
     "name": "stdout",
     "output_type": "stream",
     "text": [
      "['I', 'am', 'a', 'teacher', 'and', 'I', 'love', 'to', 'inspire', 'and', 'teach', 'people']\n",
      "number of unique words in the given string:  10\n"
     ]
    }
   ],
   "source": [
    "#Question 6\n",
    "#“I am a teacher and I love to inspire and teach people”\n",
    "# How many unique words have been used in the sentence? Use the split methods and set to get the unique words.\n",
    "\n",
    "sentence = \"I am a teacher and I love to inspire and teach people\"\n",
    "words = sentence.split(' ')          #Split function by default uses whiteSpaces as the separator in the string sentence\n",
    "print(words)\n",
    "unique_words=len(set(words))                #number of unique words in given string\n",
    "print(f\"number of unique words in the given string: \",unique_words )"
   ]
  },
  {
   "cell_type": "code",
   "execution_count": null,
   "id": "bf870f42",
   "metadata": {},
   "outputs": [],
   "source": []
  },
  {
   "cell_type": "code",
   "execution_count": 46,
   "id": "81c5d7c6",
   "metadata": {},
   "outputs": [
    {
     "name": "stdout",
     "output_type": "stream",
     "text": [
      "Name\t\tAge\t\tCountry\t\tCity\n",
      "Asabeneh\t250\t\tFinland\t\tHelsinki\n"
     ]
    }
   ],
   "source": [
    "# Question 7\n",
    "# Use a tab escape sequence to get the following lines.\n",
    "#Name Age Country City\n",
    "#Asabeneh 250 Finland Helsinki\n",
    "\n",
    "print(\"Name\\t\\tAge\\t\\tCountry\\t\\tCity\\nAsabeneh\\t250\\t\\tFinland\\t\\tHelsinki\")\n",
    "\n",
    "# \\t for tab space between words and \\n is for next line"
   ]
  },
  {
   "cell_type": "code",
   "execution_count": null,
   "id": "fb113fce",
   "metadata": {},
   "outputs": [],
   "source": []
  },
  {
   "cell_type": "code",
   "execution_count": 47,
   "id": "5760269c",
   "metadata": {},
   "outputs": [
    {
     "name": "stdout",
     "output_type": "stream",
     "text": [
      "radius = 10\n",
      "area = 3.14 * radius **2\n",
      "The area of a circle with radius 10 is 314.0 meters square.\n"
     ]
    }
   ],
   "source": [
    "#Question 8\n",
    "#Use the string formatting method to display the following:\n",
    "#radius = 10\n",
    "#area = 3.14 * radius ** 2\n",
    "#“The area of a circle with radius 10 is 314 meters square.”\n",
    "\n",
    "radius = 10\n",
    "area = 3.14 * radius ** 2\n",
    "print(\"radius = {radius}\".format(radius=10))\n",
    "print(\"area = {PI} * radius **2\".format(PI=3.14))\n",
    "print(f\"The area of a circle with radius {radius} is {area} meters square.\".format(radius=10, area=3.14*radius**2))\n",
    "\n"
   ]
  },
  {
   "cell_type": "code",
   "execution_count": null,
   "id": "06b328c9",
   "metadata": {},
   "outputs": [],
   "source": []
  },
  {
   "cell_type": "code",
   "execution_count": 56,
   "id": "28f6ca3a",
   "metadata": {},
   "outputs": [
    {
     "name": "stdout",
     "output_type": "stream",
     "text": [
      "weight in kgs:  [68.0388, 70.30676, 65.77083999999999, 67.131616, 54.431039999999996, 58.96696, 45.3592]\n"
     ]
    }
   ],
   "source": [
    "#Question 9\n",
    "#Write a program, which reads weights (lbs.) of N students into a list and convert these weights to kilograms in a separate list using Loop. N: No of students (Read input from user)\n",
    "#Ex: L1: [150, 155, 145, 148]\n",
    "#Output: [68.03, 70.3, 65.77, 67.13]\n",
    "\n",
    "#list of students weights\n",
    "weight_lbs = [150, 155, 145, 148, 120, 130, 100]\n",
    "weight_kgs = []\n",
    "\n",
    "#converting weight to kgs\n",
    "for x in weight_lbs:\n",
    "    weight_kgs.append(x*0.453592)\n",
    "print(f\"weight in kgs: \",weight_kgs)"
   ]
  },
  {
   "cell_type": "code",
   "execution_count": null,
   "id": "033f2432",
   "metadata": {},
   "outputs": [],
   "source": []
  },
  {
   "cell_type": "code",
   "execution_count": null,
   "id": "38c0f02b",
   "metadata": {},
   "outputs": [],
   "source": []
  },
  {
   "cell_type": "code",
   "execution_count": null,
   "id": "86bcc305",
   "metadata": {},
   "outputs": [],
   "source": []
  }
 ],
 "metadata": {
  "kernelspec": {
   "display_name": "Python 3 (ipykernel)",
   "language": "python",
   "name": "python3"
  },
  "language_info": {
   "codemirror_mode": {
    "name": "ipython",
    "version": 3
   },
   "file_extension": ".py",
   "mimetype": "text/x-python",
   "name": "python",
   "nbconvert_exporter": "python",
   "pygments_lexer": "ipython3",
   "version": "3.9.5"
  }
 },
 "nbformat": 4,
 "nbformat_minor": 5
}
